{
  "nbformat": 4,
  "nbformat_minor": 0,
  "metadata": {
    "colab": {
      "provenance": [],
      "authorship_tag": "ABX9TyMblX/L6kNAZjFbnh8niTuD",
      "include_colab_link": true
    },
    "kernelspec": {
      "name": "python3",
      "display_name": "Python 3"
    },
    "language_info": {
      "name": "python"
    }
  },
  "cells": [
    {
      "cell_type": "markdown",
      "metadata": {
        "id": "view-in-github",
        "colab_type": "text"
      },
      "source": [
        "<a href=\"https://colab.research.google.com/github/wendirad/weekFour/blob/task-1/notebooks/task_1.ipynb\" target=\"_parent\"><img src=\"https://colab.research.google.com/assets/colab-badge.svg\" alt=\"Open In Colab\"/></a>"
      ]
    },
    {
      "cell_type": "code",
      "execution_count": 2,
      "metadata": {
        "id": "h1NzHh2G5S6n"
      },
      "outputs": [],
      "source": [
        "import pandas as pd\n",
        "import seaborn as sns\n",
        "import matplotlib.pyplot as plt"
      ]
    },
    {
      "cell_type": "code",
      "source": [
        "data = pd.read_csv('/content/store.csv')\n",
        "test = pd.read_csv('/content/test.csv')\n",
        "train = pd.read_csv('/content/train.csv')\n",
        "clean_data = pd.read_csv('/content/clean_data.csv')"
      ],
      "metadata": {
        "id": "xJqma63PXG77"
      },
      "execution_count": 3,
      "outputs": []
    },
    {
      "cell_type": "code",
      "source": [
        "clean_data.info()"
      ],
      "metadata": {
        "colab": {
          "base_uri": "https://localhost:8080/"
        },
        "id": "IPvemZq6XIBr",
        "outputId": "f7033c0e-aa4d-46a4-b4ba-60170bacb546"
      },
      "execution_count": 4,
      "outputs": [
        {
          "output_type": "stream",
          "name": "stdout",
          "text": [
            "<class 'pandas.core.frame.DataFrame'>\n",
            "RangeIndex: 10950 entries, 0 to 10949\n",
            "Data columns (total 11 columns):\n",
            " #   Column          Non-Null Count  Dtype \n",
            "---  ------          --------------  ----- \n",
            " 0   Date            10950 non-null  object\n",
            " 1   Store           10950 non-null  int64 \n",
            " 2   Store_Type      10950 non-null  object\n",
            " 3   Store_Status    10950 non-null  int64 \n",
            " 4   Promo           10950 non-null  int64 \n",
            " 5   Promo2          10950 non-null  int64 \n",
            " 6   School_Holiday  10950 non-null  int64 \n",
            " 7   Customers       10950 non-null  int64 \n",
            " 8   Sales           10950 non-null  int64 \n",
            " 9   DayOfWeek       10950 non-null  int64 \n",
            " 10  is_holiday      10950 non-null  int64 \n",
            "dtypes: int64(9), object(2)\n",
            "memory usage: 941.1+ KB\n"
          ]
        }
      ]
    },
    {
      "cell_type": "code",
      "source": [
        "clean_data.describe()"
      ],
      "metadata": {
        "colab": {
          "base_uri": "https://localhost:8080/",
          "height": 300
        },
        "id": "cd_4uAbxXOJe",
        "outputId": "e5222b1e-47ef-4d8f-f59f-32eaf0caebdd"
      },
      "execution_count": 5,
      "outputs": [
        {
          "output_type": "execute_result",
          "data": {
            "text/plain": [
              "              Store  Store_Status         Promo        Promo2  School_Holiday  \\\n",
              "count  10950.000000  10950.000000  10950.000000  10950.000000    10950.000000   \n",
              "mean       5.500000      0.899087      0.300457      0.149315        0.252055   \n",
              "std        2.872412      0.301228      0.458478      0.356415        0.434212   \n",
              "min        1.000000      0.000000      0.000000      0.000000        0.000000   \n",
              "25%        3.000000      1.000000      0.000000      0.000000        0.000000   \n",
              "50%        5.500000      1.000000      0.000000      0.000000        0.000000   \n",
              "75%        8.000000      1.000000      1.000000      0.000000        1.000000   \n",
              "max       10.000000      1.000000      1.000000      1.000000        1.000000   \n",
              "\n",
              "          Customers         Sales     DayOfWeek    is_holiday  \n",
              "count  10950.000000  10950.000000  10950.000000  10950.000000  \n",
              "mean      87.575708    304.372511      3.005479      0.037443  \n",
              "std       31.567305    461.786570      2.000540      0.189853  \n",
              "min        0.000000      0.000000      0.000000      0.000000  \n",
              "25%       86.000000      0.000000      1.000000      0.000000  \n",
              "50%       96.000000     33.000000      3.000000      0.000000  \n",
              "75%      105.000000    714.000000      5.000000      0.000000  \n",
              "max      148.000000   1793.000000      6.000000      1.000000  "
            ],
            "text/html": [
              "\n",
              "  <div id=\"df-12f2776b-712f-47ce-866c-ca6584211905\" class=\"colab-df-container\">\n",
              "    <div>\n",
              "<style scoped>\n",
              "    .dataframe tbody tr th:only-of-type {\n",
              "        vertical-align: middle;\n",
              "    }\n",
              "\n",
              "    .dataframe tbody tr th {\n",
              "        vertical-align: top;\n",
              "    }\n",
              "\n",
              "    .dataframe thead th {\n",
              "        text-align: right;\n",
              "    }\n",
              "</style>\n",
              "<table border=\"1\" class=\"dataframe\">\n",
              "  <thead>\n",
              "    <tr style=\"text-align: right;\">\n",
              "      <th></th>\n",
              "      <th>Store</th>\n",
              "      <th>Store_Status</th>\n",
              "      <th>Promo</th>\n",
              "      <th>Promo2</th>\n",
              "      <th>School_Holiday</th>\n",
              "      <th>Customers</th>\n",
              "      <th>Sales</th>\n",
              "      <th>DayOfWeek</th>\n",
              "      <th>is_holiday</th>\n",
              "    </tr>\n",
              "  </thead>\n",
              "  <tbody>\n",
              "    <tr>\n",
              "      <th>count</th>\n",
              "      <td>10950.000000</td>\n",
              "      <td>10950.000000</td>\n",
              "      <td>10950.000000</td>\n",
              "      <td>10950.000000</td>\n",
              "      <td>10950.000000</td>\n",
              "      <td>10950.000000</td>\n",
              "      <td>10950.000000</td>\n",
              "      <td>10950.000000</td>\n",
              "      <td>10950.000000</td>\n",
              "    </tr>\n",
              "    <tr>\n",
              "      <th>mean</th>\n",
              "      <td>5.500000</td>\n",
              "      <td>0.899087</td>\n",
              "      <td>0.300457</td>\n",
              "      <td>0.149315</td>\n",
              "      <td>0.252055</td>\n",
              "      <td>87.575708</td>\n",
              "      <td>304.372511</td>\n",
              "      <td>3.005479</td>\n",
              "      <td>0.037443</td>\n",
              "    </tr>\n",
              "    <tr>\n",
              "      <th>std</th>\n",
              "      <td>2.872412</td>\n",
              "      <td>0.301228</td>\n",
              "      <td>0.458478</td>\n",
              "      <td>0.356415</td>\n",
              "      <td>0.434212</td>\n",
              "      <td>31.567305</td>\n",
              "      <td>461.786570</td>\n",
              "      <td>2.000540</td>\n",
              "      <td>0.189853</td>\n",
              "    </tr>\n",
              "    <tr>\n",
              "      <th>min</th>\n",
              "      <td>1.000000</td>\n",
              "      <td>0.000000</td>\n",
              "      <td>0.000000</td>\n",
              "      <td>0.000000</td>\n",
              "      <td>0.000000</td>\n",
              "      <td>0.000000</td>\n",
              "      <td>0.000000</td>\n",
              "      <td>0.000000</td>\n",
              "      <td>0.000000</td>\n",
              "    </tr>\n",
              "    <tr>\n",
              "      <th>25%</th>\n",
              "      <td>3.000000</td>\n",
              "      <td>1.000000</td>\n",
              "      <td>0.000000</td>\n",
              "      <td>0.000000</td>\n",
              "      <td>0.000000</td>\n",
              "      <td>86.000000</td>\n",
              "      <td>0.000000</td>\n",
              "      <td>1.000000</td>\n",
              "      <td>0.000000</td>\n",
              "    </tr>\n",
              "    <tr>\n",
              "      <th>50%</th>\n",
              "      <td>5.500000</td>\n",
              "      <td>1.000000</td>\n",
              "      <td>0.000000</td>\n",
              "      <td>0.000000</td>\n",
              "      <td>0.000000</td>\n",
              "      <td>96.000000</td>\n",
              "      <td>33.000000</td>\n",
              "      <td>3.000000</td>\n",
              "      <td>0.000000</td>\n",
              "    </tr>\n",
              "    <tr>\n",
              "      <th>75%</th>\n",
              "      <td>8.000000</td>\n",
              "      <td>1.000000</td>\n",
              "      <td>1.000000</td>\n",
              "      <td>0.000000</td>\n",
              "      <td>1.000000</td>\n",
              "      <td>105.000000</td>\n",
              "      <td>714.000000</td>\n",
              "      <td>5.000000</td>\n",
              "      <td>0.000000</td>\n",
              "    </tr>\n",
              "    <tr>\n",
              "      <th>max</th>\n",
              "      <td>10.000000</td>\n",
              "      <td>1.000000</td>\n",
              "      <td>1.000000</td>\n",
              "      <td>1.000000</td>\n",
              "      <td>1.000000</td>\n",
              "      <td>148.000000</td>\n",
              "      <td>1793.000000</td>\n",
              "      <td>6.000000</td>\n",
              "      <td>1.000000</td>\n",
              "    </tr>\n",
              "  </tbody>\n",
              "</table>\n",
              "</div>\n",
              "    <div class=\"colab-df-buttons\">\n",
              "\n",
              "  <div class=\"colab-df-container\">\n",
              "    <button class=\"colab-df-convert\" onclick=\"convertToInteractive('df-12f2776b-712f-47ce-866c-ca6584211905')\"\n",
              "            title=\"Convert this dataframe to an interactive table.\"\n",
              "            style=\"display:none;\">\n",
              "\n",
              "  <svg xmlns=\"http://www.w3.org/2000/svg\" height=\"24px\" viewBox=\"0 -960 960 960\">\n",
              "    <path d=\"M120-120v-720h720v720H120Zm60-500h600v-160H180v160Zm220 220h160v-160H400v160Zm0 220h160v-160H400v160ZM180-400h160v-160H180v160Zm440 0h160v-160H620v160ZM180-180h160v-160H180v160Zm440 0h160v-160H620v160Z\"/>\n",
              "  </svg>\n",
              "    </button>\n",
              "\n",
              "  <style>\n",
              "    .colab-df-container {\n",
              "      display:flex;\n",
              "      gap: 12px;\n",
              "    }\n",
              "\n",
              "    .colab-df-convert {\n",
              "      background-color: #E8F0FE;\n",
              "      border: none;\n",
              "      border-radius: 50%;\n",
              "      cursor: pointer;\n",
              "      display: none;\n",
              "      fill: #1967D2;\n",
              "      height: 32px;\n",
              "      padding: 0 0 0 0;\n",
              "      width: 32px;\n",
              "    }\n",
              "\n",
              "    .colab-df-convert:hover {\n",
              "      background-color: #E2EBFA;\n",
              "      box-shadow: 0px 1px 2px rgba(60, 64, 67, 0.3), 0px 1px 3px 1px rgba(60, 64, 67, 0.15);\n",
              "      fill: #174EA6;\n",
              "    }\n",
              "\n",
              "    .colab-df-buttons div {\n",
              "      margin-bottom: 4px;\n",
              "    }\n",
              "\n",
              "    [theme=dark] .colab-df-convert {\n",
              "      background-color: #3B4455;\n",
              "      fill: #D2E3FC;\n",
              "    }\n",
              "\n",
              "    [theme=dark] .colab-df-convert:hover {\n",
              "      background-color: #434B5C;\n",
              "      box-shadow: 0px 1px 3px 1px rgba(0, 0, 0, 0.15);\n",
              "      filter: drop-shadow(0px 1px 2px rgba(0, 0, 0, 0.3));\n",
              "      fill: #FFFFFF;\n",
              "    }\n",
              "  </style>\n",
              "\n",
              "    <script>\n",
              "      const buttonEl =\n",
              "        document.querySelector('#df-12f2776b-712f-47ce-866c-ca6584211905 button.colab-df-convert');\n",
              "      buttonEl.style.display =\n",
              "        google.colab.kernel.accessAllowed ? 'block' : 'none';\n",
              "\n",
              "      async function convertToInteractive(key) {\n",
              "        const element = document.querySelector('#df-12f2776b-712f-47ce-866c-ca6584211905');\n",
              "        const dataTable =\n",
              "          await google.colab.kernel.invokeFunction('convertToInteractive',\n",
              "                                                    [key], {});\n",
              "        if (!dataTable) return;\n",
              "\n",
              "        const docLinkHtml = 'Like what you see? Visit the ' +\n",
              "          '<a target=\"_blank\" href=https://colab.research.google.com/notebooks/data_table.ipynb>data table notebook</a>'\n",
              "          + ' to learn more about interactive tables.';\n",
              "        element.innerHTML = '';\n",
              "        dataTable['output_type'] = 'display_data';\n",
              "        await google.colab.output.renderOutput(dataTable, element);\n",
              "        const docLink = document.createElement('div');\n",
              "        docLink.innerHTML = docLinkHtml;\n",
              "        element.appendChild(docLink);\n",
              "      }\n",
              "    </script>\n",
              "  </div>\n",
              "\n",
              "\n",
              "<div id=\"df-75a0d616-aa52-4169-8118-e1fd1f16327a\">\n",
              "  <button class=\"colab-df-quickchart\" onclick=\"quickchart('df-75a0d616-aa52-4169-8118-e1fd1f16327a')\"\n",
              "            title=\"Suggest charts\"\n",
              "            style=\"display:none;\">\n",
              "\n",
              "<svg xmlns=\"http://www.w3.org/2000/svg\" height=\"24px\"viewBox=\"0 0 24 24\"\n",
              "     width=\"24px\">\n",
              "    <g>\n",
              "        <path d=\"M19 3H5c-1.1 0-2 .9-2 2v14c0 1.1.9 2 2 2h14c1.1 0 2-.9 2-2V5c0-1.1-.9-2-2-2zM9 17H7v-7h2v7zm4 0h-2V7h2v10zm4 0h-2v-4h2v4z\"/>\n",
              "    </g>\n",
              "</svg>\n",
              "  </button>\n",
              "\n",
              "<style>\n",
              "  .colab-df-quickchart {\n",
              "      --bg-color: #E8F0FE;\n",
              "      --fill-color: #1967D2;\n",
              "      --hover-bg-color: #E2EBFA;\n",
              "      --hover-fill-color: #174EA6;\n",
              "      --disabled-fill-color: #AAA;\n",
              "      --disabled-bg-color: #DDD;\n",
              "  }\n",
              "\n",
              "  [theme=dark] .colab-df-quickchart {\n",
              "      --bg-color: #3B4455;\n",
              "      --fill-color: #D2E3FC;\n",
              "      --hover-bg-color: #434B5C;\n",
              "      --hover-fill-color: #FFFFFF;\n",
              "      --disabled-bg-color: #3B4455;\n",
              "      --disabled-fill-color: #666;\n",
              "  }\n",
              "\n",
              "  .colab-df-quickchart {\n",
              "    background-color: var(--bg-color);\n",
              "    border: none;\n",
              "    border-radius: 50%;\n",
              "    cursor: pointer;\n",
              "    display: none;\n",
              "    fill: var(--fill-color);\n",
              "    height: 32px;\n",
              "    padding: 0;\n",
              "    width: 32px;\n",
              "  }\n",
              "\n",
              "  .colab-df-quickchart:hover {\n",
              "    background-color: var(--hover-bg-color);\n",
              "    box-shadow: 0 1px 2px rgba(60, 64, 67, 0.3), 0 1px 3px 1px rgba(60, 64, 67, 0.15);\n",
              "    fill: var(--button-hover-fill-color);\n",
              "  }\n",
              "\n",
              "  .colab-df-quickchart-complete:disabled,\n",
              "  .colab-df-quickchart-complete:disabled:hover {\n",
              "    background-color: var(--disabled-bg-color);\n",
              "    fill: var(--disabled-fill-color);\n",
              "    box-shadow: none;\n",
              "  }\n",
              "\n",
              "  .colab-df-spinner {\n",
              "    border: 2px solid var(--fill-color);\n",
              "    border-color: transparent;\n",
              "    border-bottom-color: var(--fill-color);\n",
              "    animation:\n",
              "      spin 1s steps(1) infinite;\n",
              "  }\n",
              "\n",
              "  @keyframes spin {\n",
              "    0% {\n",
              "      border-color: transparent;\n",
              "      border-bottom-color: var(--fill-color);\n",
              "      border-left-color: var(--fill-color);\n",
              "    }\n",
              "    20% {\n",
              "      border-color: transparent;\n",
              "      border-left-color: var(--fill-color);\n",
              "      border-top-color: var(--fill-color);\n",
              "    }\n",
              "    30% {\n",
              "      border-color: transparent;\n",
              "      border-left-color: var(--fill-color);\n",
              "      border-top-color: var(--fill-color);\n",
              "      border-right-color: var(--fill-color);\n",
              "    }\n",
              "    40% {\n",
              "      border-color: transparent;\n",
              "      border-right-color: var(--fill-color);\n",
              "      border-top-color: var(--fill-color);\n",
              "    }\n",
              "    60% {\n",
              "      border-color: transparent;\n",
              "      border-right-color: var(--fill-color);\n",
              "    }\n",
              "    80% {\n",
              "      border-color: transparent;\n",
              "      border-right-color: var(--fill-color);\n",
              "      border-bottom-color: var(--fill-color);\n",
              "    }\n",
              "    90% {\n",
              "      border-color: transparent;\n",
              "      border-bottom-color: var(--fill-color);\n",
              "    }\n",
              "  }\n",
              "</style>\n",
              "\n",
              "  <script>\n",
              "    async function quickchart(key) {\n",
              "      const quickchartButtonEl =\n",
              "        document.querySelector('#' + key + ' button');\n",
              "      quickchartButtonEl.disabled = true;  // To prevent multiple clicks.\n",
              "      quickchartButtonEl.classList.add('colab-df-spinner');\n",
              "      try {\n",
              "        const charts = await google.colab.kernel.invokeFunction(\n",
              "            'suggestCharts', [key], {});\n",
              "      } catch (error) {\n",
              "        console.error('Error during call to suggestCharts:', error);\n",
              "      }\n",
              "      quickchartButtonEl.classList.remove('colab-df-spinner');\n",
              "      quickchartButtonEl.classList.add('colab-df-quickchart-complete');\n",
              "    }\n",
              "    (() => {\n",
              "      let quickchartButtonEl =\n",
              "        document.querySelector('#df-75a0d616-aa52-4169-8118-e1fd1f16327a button');\n",
              "      quickchartButtonEl.style.display =\n",
              "        google.colab.kernel.accessAllowed ? 'block' : 'none';\n",
              "    })();\n",
              "  </script>\n",
              "</div>\n",
              "\n",
              "    </div>\n",
              "  </div>\n"
            ],
            "application/vnd.google.colaboratory.intrinsic+json": {
              "type": "dataframe",
              "summary": "{\n  \"name\": \"clean_data\",\n  \"rows\": 8,\n  \"fields\": [\n    {\n      \"column\": \"Store\",\n      \"properties\": {\n        \"dtype\": \"number\",\n        \"std\": 3869.5988841189815,\n        \"min\": 1.0,\n        \"max\": 10950.0,\n        \"num_unique_values\": 7,\n        \"samples\": [\n          10950.0,\n          5.5,\n          8.0\n        ],\n        \"semantic_type\": \"\",\n        \"description\": \"\"\n      }\n    },\n    {\n      \"column\": \"Store_Status\",\n      \"properties\": {\n        \"dtype\": \"number\",\n        \"std\": 3871.146990570588,\n        \"min\": 0.0,\n        \"max\": 10950.0,\n        \"num_unique_values\": 5,\n        \"samples\": [\n          0.8990867579908676,\n          1.0,\n          0.30122756543168727\n        ],\n        \"semantic_type\": \"\",\n        \"description\": \"\"\n      }\n    },\n    {\n      \"column\": \"Promo\",\n      \"properties\": {\n        \"dtype\": \"number\",\n        \"std\": 3871.2703021618095,\n        \"min\": 0.0,\n        \"max\": 10950.0,\n        \"num_unique_values\": 5,\n        \"samples\": [\n          0.3004566210045662,\n          1.0,\n          0.4584775200547753\n        ],\n        \"semantic_type\": \"\",\n        \"description\": \"\"\n      }\n    },\n    {\n      \"column\": \"Promo2\",\n      \"properties\": {\n        \"dtype\": \"number\",\n        \"std\": 3871.3335913712335,\n        \"min\": 0.0,\n        \"max\": 10950.0,\n        \"num_unique_values\": 5,\n        \"samples\": [\n          0.14931506849315068,\n          1.0,\n          0.3564150387970197\n        ],\n        \"semantic_type\": \"\",\n        \"description\": \"\"\n      }\n    },\n    {\n      \"column\": \"School_Holiday\",\n      \"properties\": {\n        \"dtype\": \"number\",\n        \"std\": 3871.2739725475785,\n        \"min\": 0.0,\n        \"max\": 10950.0,\n        \"num_unique_values\": 5,\n        \"samples\": [\n          0.25205479452054796,\n          1.0,\n          0.43421238280418295\n        ],\n        \"semantic_type\": \"\",\n        \"description\": \"\"\n      }\n    },\n    {\n      \"column\": \"Customers\",\n      \"properties\": {\n        \"dtype\": \"number\",\n        \"std\": 3843.6876581329743,\n        \"min\": 0.0,\n        \"max\": 10950.0,\n        \"num_unique_values\": 8,\n        \"samples\": [\n          87.57570776255707,\n          96.0,\n          10950.0\n        ],\n        \"semantic_type\": \"\",\n        \"description\": \"\"\n      }\n    },\n    {\n      \"column\": \"Sales\",\n      \"properties\": {\n        \"dtype\": \"number\",\n        \"std\": 3751.749391831452,\n        \"min\": 0.0,\n        \"max\": 10950.0,\n        \"num_unique_values\": 7,\n        \"samples\": [\n          10950.0,\n          304.37251141552514,\n          714.0\n        ],\n        \"semantic_type\": \"\",\n        \"description\": \"\"\n      }\n    },\n    {\n      \"column\": \"DayOfWeek\",\n      \"properties\": {\n        \"dtype\": \"number\",\n        \"std\": 3870.399666065832,\n        \"min\": 0.0,\n        \"max\": 10950.0,\n        \"num_unique_values\": 8,\n        \"samples\": [\n          3.0054794520547947,\n          3.0,\n          10950.0\n        ],\n        \"semantic_type\": \"\",\n        \"description\": \"\"\n      }\n    },\n    {\n      \"column\": \"is_holiday\",\n      \"properties\": {\n        \"dtype\": \"number\",\n        \"std\": 3871.3476543520474,\n        \"min\": 0.0,\n        \"max\": 10950.0,\n        \"num_unique_values\": 5,\n        \"samples\": [\n          0.03744292237442922,\n          1.0,\n          0.1898532107973231\n        ],\n        \"semantic_type\": \"\",\n        \"description\": \"\"\n      }\n    }\n  ]\n}"
            }
          },
          "metadata": {},
          "execution_count": 5
        }
      ]
    },
    {
      "cell_type": "markdown",
      "source": [
        "## Distribution of Competition Distance"
      ],
      "metadata": {
        "id": "vpVBEBhcZyyk"
      }
    },
    {
      "cell_type": "code",
      "source": [
        "sns.histplot(data[\"CompetitionDistance\"], kde=True, color='blue')\n",
        "plt.title(\"Distribution of Competition Distance\")\n",
        "plt.xlabel(\"Competition Distance (in meters)\")\n",
        "plt.ylabel(\"Frequency\")\n",
        "plt.show()"
      ],
      "metadata": {
        "colab": {
          "base_uri": "https://localhost:8080/",
          "height": 472
        },
        "id": "UpwqJMWcZYMy",
        "outputId": "a8345455-f6b4-414e-8597-47278dffa25c"
      },
      "execution_count": 6,
      "outputs": [
        {
          "output_type": "display_data",
          "data": {
            "text/plain": [
              "<Figure size 640x480 with 1 Axes>"
            ],
            "image/png": "[encoded data removed]"
          },
          "metadata": {}
        }
      ]
    },
    {
      "cell_type": "markdown",
      "source": [
        "## Distribution of Promo in Both Training and Testing Datasets"
      ],
      "metadata": {
        "id": "2unYq4KmZs57"
      }
    },
    {
      "cell_type": "code",
      "source": [
        "plt.figure(figsize=(12, 6))\n",
        "sns.countplot(x='Promo', data=train, palette='Blues', alpha=0.7)\n",
        "plt.title('Promotion Distribution in Training Set')\n",
        "plt.xlabel('Promo (0 = No Promotion, 1 = Promotion)')\n",
        "plt.ylabel('Count')\n",
        "plt.show()\n",
        "\n",
        "plt.figure(figsize=(12, 6))\n",
        "sns.countplot(x='Promo', data=test, palette='Blues', alpha=0.7)\n",
        "plt.title('Promotion Distribution in Testing Set')\n",
        "plt.xlabel('Promo (0 = No Promotion, 1 = Promotion)')\n",
        "plt.ylabel('Count')\n",
        "plt.show()"
      ],
      "metadata": {
        "colab": {
          "base_uri": "https://localhost:8080/",
          "height": 1000
        },
        "id": "REh4PSRQZkBy",
        "outputId": "306a0559-5636-410f-803c-ef78d37abb18"
      },
      "execution_count": 8,
      "outputs": [
        {
          "output_type": "stream",
          "name": "stderr",
          "text": [
            "<ipython-input-8-555224272d44>:2: FutureWarning: \n",
            "\n",
            "Passing `palette` without assigning `hue` is deprecated and will be removed in v0.14.0. Assign the `x` variable to `hue` and set `legend=False` for the same effect.\n",
            "\n",
            "  sns.countplot(x='Promo', data=train, palette='Blues', alpha=0.7)\n"
          ]
        },
        {
          "output_type": "display_data",
          "data": {
            "text/plain": [
              "<Figure size 1200x600 with 1 Axes>"
            ],
            "image/png": "[encoded data removed]"
          },
          "metadata": {}
        },
        {
          "output_type": "stream",
          "name": "stderr",
          "text": [
            "<ipython-input-8-555224272d44>:9: FutureWarning: \n",
            "\n",
            "Passing `palette` without assigning `hue` is deprecated and will be removed in v0.14.0. Assign the `x` variable to `hue` and set `legend=False` for the same effect.\n",
            "\n",
            "  sns.countplot(x='Promo', data=test, palette='Blues', alpha=0.7)\n"
          ]
        },
        {
          "output_type": "display_data",
          "data": {
            "text/plain": [
              "<Figure size 1200x600 with 1 Axes>"
            ],
            "image/png": "[encoded data removed]"
          },
          "metadata": {}
        }
      ]
    },
    {
      "cell_type": "markdown",
      "source": [
        "The proportion of stores with promotions in both sets is **fairly consistent**, which helps ensure that your model will be exposed to similar conditions during both training and testing. However, different data sizes can still influence model performance due to the amount of data available for training versus testing.  **Larger training** set generally helps the model learn more patterns, leading to better generalization"
      ],
      "metadata": {
        "id": "skskAhyqbdeH"
      }
    },
    {
      "cell_type": "code",
      "source": [],
      "metadata": {
        "id": "LZrEQCSpZorW"
      },
      "execution_count": null,
      "outputs": []
    }
  ]
}